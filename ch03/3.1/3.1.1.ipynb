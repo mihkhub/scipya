{
 "cells": [
  {
   "cell_type": "markdown",
   "metadata": {},
   "source": [
    "# 3.1.1 Introduction\n",
    "**SciPy** is a collection of mathematical algorithms and convenience functions built on the Numpy extension of Python."
   ]
  },
  {
   "cell_type": "code",
   "execution_count": 1,
   "metadata": {
    "collapsed": true
   },
   "outputs": [],
   "source": [
    "import numpy as np\n",
    "import matplotlib as mpl\n",
    "import matplotlib.pyplot as plt"
   ]
  },
  {
   "cell_type": "markdown",
   "metadata": {},
   "source": [
    "## SciPy Organization"
   ]
  },
  {
   "cell_type": "code",
   "execution_count": 2,
   "metadata": {
    "collapsed": true
   },
   "outputs": [],
   "source": [
    "from scipy import linalg, optimize"
   ]
  },
  {
   "cell_type": "markdown",
   "metadata": {},
   "source": [
    "## Finding Documentation"
   ]
  },
  {
   "cell_type": "markdown",
   "metadata": {},
   "source": [
    "A numpy/scipy-specific help system is also avaiable under the command numpy.info"
   ]
  },
  {
   "cell_type": "code",
   "execution_count": 3,
   "metadata": {},
   "outputs": [
    {
     "name": "stdout",
     "output_type": "stream",
     "text": [
      " fmin(func, x0, args=(), xtol=0.0001, ftol=0.0001, maxiter=None, maxfun=None,\n",
      "      full_output=0, disp=1, retall=0, callback=None, initial_simplex=None)\n",
      "\n",
      "Minimize a function using the downhill simplex algorithm.\n",
      "\n",
      "This algorithm only uses function values, not derivatives or second\n",
      "derivatives.\n",
      "\n",
      "Parameters\n",
      "----------\n",
      "func : callable func(x,*args)\n",
      "    The objective function to be minimized.\n",
      "x0 : ndarray\n",
      "    Initial guess.\n",
      "args : tuple, optional\n",
      "    Extra arguments passed to func, i.e. ``f(x,*args)``.\n",
      "xtol : float, optional\n",
      "    Absolute error in xopt between iterations that is acceptable for\n",
      "    convergence.\n",
      "ftol : number, optional\n",
      "    Absolute error in func(xopt) between iterations that is acceptable for\n",
      "    convergence.\n",
      "maxiter : int, optional\n",
      "    Maximum number of iterations to perform.\n",
      "maxfun : number, optional\n",
      "    Maximum number of function evaluations to make.\n",
      "full_output : bool, optional\n",
      "    Set to True if fopt and warnflag outputs are desired.\n",
      "disp : bool, optional\n",
      "    Set to True to print convergence messages.\n",
      "retall : bool, optional\n",
      "    Set to True to return list of solutions at each iteration.\n",
      "callback : callable, optional\n",
      "    Called after each iteration, as callback(xk), where xk is the\n",
      "    current parameter vector.\n",
      "initial_simplex : array_like of shape (N + 1, N), optional\n",
      "    Initial simplex. If given, overrides `x0`.\n",
      "    ``initial_simplex[j,:]`` should contain the coordinates of\n",
      "    the j-th vertex of the ``N+1`` vertices in the simplex, where\n",
      "    ``N`` is the dimension.\n",
      "\n",
      "Returns\n",
      "-------\n",
      "xopt : ndarray\n",
      "    Parameter that minimizes function.\n",
      "fopt : float\n",
      "    Value of function at minimum: ``fopt = func(xopt)``.\n",
      "iter : int\n",
      "    Number of iterations performed.\n",
      "funcalls : int\n",
      "    Number of function calls made.\n",
      "warnflag : int\n",
      "    1 : Maximum number of function evaluations made.\n",
      "    2 : Maximum number of iterations reached.\n",
      "allvecs : list\n",
      "    Solution at each iteration.\n",
      "\n",
      "See also\n",
      "--------\n",
      "minimize: Interface to minimization algorithms for multivariate\n",
      "    functions. See the 'Nelder-Mead' `method` in particular.\n",
      "\n",
      "Notes\n",
      "-----\n",
      "Uses a Nelder-Mead simplex algorithm to find the minimum of function of\n",
      "one or more variables.\n",
      "\n",
      "This algorithm has a long history of successful use in applications.\n",
      "But it will usually be slower than an algorithm that uses first or\n",
      "second derivative information. In practice it can have poor\n",
      "performance in high-dimensional problems and is not robust to\n",
      "minimizing complicated functions. Additionally, there currently is no\n",
      "complete theory describing when the algorithm will successfully\n",
      "converge to the minimum, or how fast it will if it does. Both the ftol and\n",
      "xtol criteria must be met for convergence.\n",
      "\n",
      "References\n",
      "----------\n",
      ".. [1] Nelder, J.A. and Mead, R. (1965), \"A simplex method for function\n",
      "       minimization\", The Computer Journal, 7, pp. 308-313\n",
      "\n",
      ".. [2] Wright, M.H. (1996), \"Direct Search Methods: Once Scorned, Now\n",
      "       Respectable\", in Numerical Analysis 1995, Proceedings of the\n",
      "       1995 Dundee Biennial Conference in Numerical Analysis, D.F.\n",
      "       Griffiths and G.A. Watson (Eds.), Addison Wesley Longman,\n",
      "       Harlow, UK, pp. 191-208.\n"
     ]
    }
   ],
   "source": [
    "np.info(optimize.fmin)"
   ]
  },
  {
   "cell_type": "markdown",
   "metadata": {},
   "source": [
    "Another useful command is *source*"
   ]
  }
 ],
 "metadata": {
  "kernelspec": {
   "display_name": "Python [default]",
   "language": "python",
   "name": "python2"
  },
  "language_info": {
   "codemirror_mode": {
    "name": "ipython",
    "version": 2
   },
   "file_extension": ".py",
   "mimetype": "text/x-python",
   "name": "python",
   "nbconvert_exporter": "python",
   "pygments_lexer": "ipython2",
   "version": "2.7.13"
  }
 },
 "nbformat": 4,
 "nbformat_minor": 2
}
